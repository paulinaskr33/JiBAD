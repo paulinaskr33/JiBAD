{
 "cells": [
  {
   "cell_type": "code",
   "execution_count": 1,
   "id": "6df588cd",
   "metadata": {},
   "outputs": [],
   "source": [
    "import pandas as pd\n",
    "import matplotlib.pyplot as plt\n",
    "import math\n",
    "import numpy as np"
   ]
  },
  {
   "cell_type": "markdown",
   "id": "16f7ce56",
   "metadata": {},
   "source": [
    "## Zadanie 6"
   ]
  },
  {
   "cell_type": "markdown",
   "id": "f758d26d",
   "metadata": {},
   "source": [
    "Używając biblioteki pandas:\n",
    "1. Wczytaj plik EURUSD30.csv (źródło: Kaggle). Kolejne kolumny to: DateTime, Open, High, Low, Close, Volume.\n",
    "2. Odfiltruj wiersze z brakującymi danymi\n",
    "3. Utwórz DataFrame zawierające te same dane, ale w ujęciu dziennym.\n",
    "4. Utwórz serię danych zawierającą procentowy wzrost (lub spadek) kursu w danym dniu (jako różnicę Open i Close).\n",
    "5. Oblicz średnią i odchylenie standardowe tej kolumny oraz narysuj histogram.\n",
    "6. Powtórz punkty 4 i 5 dla wzrostów w ciągu trzech dni. Uwaga: jeśli jeden odczyt zawiera różnicę między otwarciem w poniedziałek, a zamknięciem w środę, to nastepny odczyt ma być różnicą między otwarciem we wtorek, a zamknięciem w czwartek.\n",
    "\n",
    "\n",
    "Bibliografia:\n",
    "    https://github.com/jvns/pandas-cookbook\n",
    "    https://www.kaggle.com/learn/pandas\n",
    "\n",
    "Termin: 12.01.2024 08:00"
   ]
  },
  {
   "cell_type": "markdown",
   "id": "7d01298f",
   "metadata": {},
   "source": [
    "### 1. Wczytaj plik EURUSD30.csv (źródło: Kaggle). Kolejne kolumny to: DateTime, Open, High, Low, Close, Volume."
   ]
  },
  {
   "cell_type": "code",
   "execution_count": 2,
   "id": "98e6486d",
   "metadata": {},
   "outputs": [
    {
     "ename": "FileNotFoundError",
     "evalue": "[Errno 2] No such file or directory: 'EURUSD30.csv'",
     "output_type": "error",
     "traceback": [
      "\u001b[0;31m---------------------------------------------------------------------------\u001b[0m",
      "\u001b[0;31mFileNotFoundError\u001b[0m                         Traceback (most recent call last)",
      "Cell \u001b[0;32mIn[2], line 1\u001b[0m\n\u001b[0;32m----> 1\u001b[0m df \u001b[38;5;241m=\u001b[39m \u001b[43mpd\u001b[49m\u001b[38;5;241;43m.\u001b[39;49m\u001b[43mread_csv\u001b[49m\u001b[43m(\u001b[49m\u001b[38;5;124;43m'\u001b[39;49m\u001b[38;5;124;43mEURUSD30.csv\u001b[39;49m\u001b[38;5;124;43m'\u001b[39;49m\u001b[43m,\u001b[49m\u001b[43m \u001b[49m\u001b[38;5;66;43;03m# co robi to wcięcie?\u001b[39;49;00m\n\u001b[1;32m      2\u001b[0m \u001b[43mheader\u001b[49m\u001b[38;5;241;43m=\u001b[39;49m\u001b[38;5;28;43;01mNone\u001b[39;49;00m\u001b[43m,\u001b[49m\n\u001b[1;32m      3\u001b[0m \u001b[43mnames\u001b[49m\u001b[38;5;241;43m=\u001b[39;49m\u001b[43m[\u001b[49m\u001b[38;5;124;43m'\u001b[39;49m\u001b[38;5;124;43mDateTime\u001b[39;49m\u001b[38;5;124;43m'\u001b[39;49m\u001b[43m,\u001b[49m\u001b[43m \u001b[49m\u001b[38;5;124;43m'\u001b[39;49m\u001b[38;5;124;43mOpen\u001b[39;49m\u001b[38;5;124;43m'\u001b[39;49m\u001b[43m,\u001b[49m\u001b[43m \u001b[49m\u001b[38;5;124;43m'\u001b[39;49m\u001b[38;5;124;43mHigh\u001b[39;49m\u001b[38;5;124;43m'\u001b[39;49m\u001b[43m,\u001b[49m\u001b[43m \u001b[49m\u001b[38;5;124;43m'\u001b[39;49m\u001b[38;5;124;43mLow\u001b[39;49m\u001b[38;5;124;43m'\u001b[39;49m\u001b[43m,\u001b[49m\u001b[43m \u001b[49m\u001b[38;5;124;43m'\u001b[39;49m\u001b[38;5;124;43mClose\u001b[39;49m\u001b[38;5;124;43m'\u001b[39;49m\u001b[43m,\u001b[49m\u001b[43m \u001b[49m\u001b[38;5;124;43m'\u001b[39;49m\u001b[38;5;124;43mVolume\u001b[39;49m\u001b[38;5;124;43m'\u001b[39;49m\u001b[43m]\u001b[49m\u001b[43m,\u001b[49m\u001b[43m \u001b[49m\n\u001b[1;32m      4\u001b[0m \u001b[43mdtype\u001b[49m\u001b[43m \u001b[49m\u001b[38;5;241;43m=\u001b[39;49m\u001b[43m \u001b[49m\u001b[43m{\u001b[49m\u001b[38;5;124;43m'\u001b[39;49m\u001b[38;5;124;43mOpen\u001b[39;49m\u001b[38;5;124;43m'\u001b[39;49m\u001b[43m:\u001b[49m\u001b[43m \u001b[49m\u001b[38;5;28;43mfloat\u001b[39;49m\u001b[43m,\u001b[49m\u001b[43m \u001b[49m\u001b[38;5;124;43m'\u001b[39;49m\u001b[38;5;124;43mHigh\u001b[39;49m\u001b[38;5;124;43m'\u001b[39;49m\u001b[43m:\u001b[49m\u001b[43m \u001b[49m\u001b[38;5;28;43mfloat\u001b[39;49m\u001b[43m,\u001b[49m\u001b[43m \u001b[49m\u001b[38;5;124;43m'\u001b[39;49m\u001b[38;5;124;43mLow\u001b[39;49m\u001b[38;5;124;43m'\u001b[39;49m\u001b[43m:\u001b[49m\u001b[43m \u001b[49m\u001b[38;5;28;43mfloat\u001b[39;49m\u001b[43m,\u001b[49m\u001b[43m \u001b[49m\u001b[38;5;124;43m'\u001b[39;49m\u001b[38;5;124;43mClose\u001b[39;49m\u001b[38;5;124;43m'\u001b[39;49m\u001b[43m:\u001b[49m\u001b[43m \u001b[49m\u001b[38;5;28;43mfloat\u001b[39;49m\u001b[43m,\u001b[49m\u001b[43m \u001b[49m\u001b[38;5;124;43m'\u001b[39;49m\u001b[38;5;124;43mVolume\u001b[39;49m\u001b[38;5;124;43m'\u001b[39;49m\u001b[43m:\u001b[49m\u001b[43m \u001b[49m\u001b[38;5;28;43mint\u001b[39;49m\u001b[43m}\u001b[49m\u001b[43m,\u001b[49m\n\u001b[1;32m      5\u001b[0m \u001b[43msep\u001b[49m\u001b[43m \u001b[49m\u001b[38;5;241;43m=\u001b[39;49m\u001b[43m \u001b[49m\u001b[38;5;124;43m'\u001b[39;49m\u001b[38;5;130;43;01m\\t\u001b[39;49;00m\u001b[38;5;124;43m'\u001b[39;49m\u001b[43m,\u001b[49m\u001b[43m \u001b[49m\u001b[43mparse_dates\u001b[49m\u001b[38;5;241;43m=\u001b[39;49m\u001b[43m[\u001b[49m\u001b[38;5;124;43m'\u001b[39;49m\u001b[38;5;124;43mDateTime\u001b[39;49m\u001b[38;5;124;43m'\u001b[39;49m\u001b[43m]\u001b[49m\u001b[43m \u001b[49m\u001b[43m)\u001b[49m\n",
      "File \u001b[0;32m~/.local/lib/python3.10/site-packages/pandas/io/parsers/readers.py:948\u001b[0m, in \u001b[0;36mread_csv\u001b[0;34m(filepath_or_buffer, sep, delimiter, header, names, index_col, usecols, dtype, engine, converters, true_values, false_values, skipinitialspace, skiprows, skipfooter, nrows, na_values, keep_default_na, na_filter, verbose, skip_blank_lines, parse_dates, infer_datetime_format, keep_date_col, date_parser, date_format, dayfirst, cache_dates, iterator, chunksize, compression, thousands, decimal, lineterminator, quotechar, quoting, doublequote, escapechar, comment, encoding, encoding_errors, dialect, on_bad_lines, delim_whitespace, low_memory, memory_map, float_precision, storage_options, dtype_backend)\u001b[0m\n\u001b[1;32m    935\u001b[0m kwds_defaults \u001b[38;5;241m=\u001b[39m _refine_defaults_read(\n\u001b[1;32m    936\u001b[0m     dialect,\n\u001b[1;32m    937\u001b[0m     delimiter,\n\u001b[0;32m   (...)\u001b[0m\n\u001b[1;32m    944\u001b[0m     dtype_backend\u001b[38;5;241m=\u001b[39mdtype_backend,\n\u001b[1;32m    945\u001b[0m )\n\u001b[1;32m    946\u001b[0m kwds\u001b[38;5;241m.\u001b[39mupdate(kwds_defaults)\n\u001b[0;32m--> 948\u001b[0m \u001b[38;5;28;01mreturn\u001b[39;00m \u001b[43m_read\u001b[49m\u001b[43m(\u001b[49m\u001b[43mfilepath_or_buffer\u001b[49m\u001b[43m,\u001b[49m\u001b[43m \u001b[49m\u001b[43mkwds\u001b[49m\u001b[43m)\u001b[49m\n",
      "File \u001b[0;32m~/.local/lib/python3.10/site-packages/pandas/io/parsers/readers.py:611\u001b[0m, in \u001b[0;36m_read\u001b[0;34m(filepath_or_buffer, kwds)\u001b[0m\n\u001b[1;32m    608\u001b[0m _validate_names(kwds\u001b[38;5;241m.\u001b[39mget(\u001b[38;5;124m\"\u001b[39m\u001b[38;5;124mnames\u001b[39m\u001b[38;5;124m\"\u001b[39m, \u001b[38;5;28;01mNone\u001b[39;00m))\n\u001b[1;32m    610\u001b[0m \u001b[38;5;66;03m# Create the parser.\u001b[39;00m\n\u001b[0;32m--> 611\u001b[0m parser \u001b[38;5;241m=\u001b[39m \u001b[43mTextFileReader\u001b[49m\u001b[43m(\u001b[49m\u001b[43mfilepath_or_buffer\u001b[49m\u001b[43m,\u001b[49m\u001b[43m \u001b[49m\u001b[38;5;241;43m*\u001b[39;49m\u001b[38;5;241;43m*\u001b[39;49m\u001b[43mkwds\u001b[49m\u001b[43m)\u001b[49m\n\u001b[1;32m    613\u001b[0m \u001b[38;5;28;01mif\u001b[39;00m chunksize \u001b[38;5;129;01mor\u001b[39;00m iterator:\n\u001b[1;32m    614\u001b[0m     \u001b[38;5;28;01mreturn\u001b[39;00m parser\n",
      "File \u001b[0;32m~/.local/lib/python3.10/site-packages/pandas/io/parsers/readers.py:1448\u001b[0m, in \u001b[0;36mTextFileReader.__init__\u001b[0;34m(self, f, engine, **kwds)\u001b[0m\n\u001b[1;32m   1445\u001b[0m     \u001b[38;5;28mself\u001b[39m\u001b[38;5;241m.\u001b[39moptions[\u001b[38;5;124m\"\u001b[39m\u001b[38;5;124mhas_index_names\u001b[39m\u001b[38;5;124m\"\u001b[39m] \u001b[38;5;241m=\u001b[39m kwds[\u001b[38;5;124m\"\u001b[39m\u001b[38;5;124mhas_index_names\u001b[39m\u001b[38;5;124m\"\u001b[39m]\n\u001b[1;32m   1447\u001b[0m \u001b[38;5;28mself\u001b[39m\u001b[38;5;241m.\u001b[39mhandles: IOHandles \u001b[38;5;241m|\u001b[39m \u001b[38;5;28;01mNone\u001b[39;00m \u001b[38;5;241m=\u001b[39m \u001b[38;5;28;01mNone\u001b[39;00m\n\u001b[0;32m-> 1448\u001b[0m \u001b[38;5;28mself\u001b[39m\u001b[38;5;241m.\u001b[39m_engine \u001b[38;5;241m=\u001b[39m \u001b[38;5;28;43mself\u001b[39;49m\u001b[38;5;241;43m.\u001b[39;49m\u001b[43m_make_engine\u001b[49m\u001b[43m(\u001b[49m\u001b[43mf\u001b[49m\u001b[43m,\u001b[49m\u001b[43m \u001b[49m\u001b[38;5;28;43mself\u001b[39;49m\u001b[38;5;241;43m.\u001b[39;49m\u001b[43mengine\u001b[49m\u001b[43m)\u001b[49m\n",
      "File \u001b[0;32m~/.local/lib/python3.10/site-packages/pandas/io/parsers/readers.py:1705\u001b[0m, in \u001b[0;36mTextFileReader._make_engine\u001b[0;34m(self, f, engine)\u001b[0m\n\u001b[1;32m   1703\u001b[0m     \u001b[38;5;28;01mif\u001b[39;00m \u001b[38;5;124m\"\u001b[39m\u001b[38;5;124mb\u001b[39m\u001b[38;5;124m\"\u001b[39m \u001b[38;5;129;01mnot\u001b[39;00m \u001b[38;5;129;01min\u001b[39;00m mode:\n\u001b[1;32m   1704\u001b[0m         mode \u001b[38;5;241m+\u001b[39m\u001b[38;5;241m=\u001b[39m \u001b[38;5;124m\"\u001b[39m\u001b[38;5;124mb\u001b[39m\u001b[38;5;124m\"\u001b[39m\n\u001b[0;32m-> 1705\u001b[0m \u001b[38;5;28mself\u001b[39m\u001b[38;5;241m.\u001b[39mhandles \u001b[38;5;241m=\u001b[39m \u001b[43mget_handle\u001b[49m\u001b[43m(\u001b[49m\n\u001b[1;32m   1706\u001b[0m \u001b[43m    \u001b[49m\u001b[43mf\u001b[49m\u001b[43m,\u001b[49m\n\u001b[1;32m   1707\u001b[0m \u001b[43m    \u001b[49m\u001b[43mmode\u001b[49m\u001b[43m,\u001b[49m\n\u001b[1;32m   1708\u001b[0m \u001b[43m    \u001b[49m\u001b[43mencoding\u001b[49m\u001b[38;5;241;43m=\u001b[39;49m\u001b[38;5;28;43mself\u001b[39;49m\u001b[38;5;241;43m.\u001b[39;49m\u001b[43moptions\u001b[49m\u001b[38;5;241;43m.\u001b[39;49m\u001b[43mget\u001b[49m\u001b[43m(\u001b[49m\u001b[38;5;124;43m\"\u001b[39;49m\u001b[38;5;124;43mencoding\u001b[39;49m\u001b[38;5;124;43m\"\u001b[39;49m\u001b[43m,\u001b[49m\u001b[43m \u001b[49m\u001b[38;5;28;43;01mNone\u001b[39;49;00m\u001b[43m)\u001b[49m\u001b[43m,\u001b[49m\n\u001b[1;32m   1709\u001b[0m \u001b[43m    \u001b[49m\u001b[43mcompression\u001b[49m\u001b[38;5;241;43m=\u001b[39;49m\u001b[38;5;28;43mself\u001b[39;49m\u001b[38;5;241;43m.\u001b[39;49m\u001b[43moptions\u001b[49m\u001b[38;5;241;43m.\u001b[39;49m\u001b[43mget\u001b[49m\u001b[43m(\u001b[49m\u001b[38;5;124;43m\"\u001b[39;49m\u001b[38;5;124;43mcompression\u001b[39;49m\u001b[38;5;124;43m\"\u001b[39;49m\u001b[43m,\u001b[49m\u001b[43m \u001b[49m\u001b[38;5;28;43;01mNone\u001b[39;49;00m\u001b[43m)\u001b[49m\u001b[43m,\u001b[49m\n\u001b[1;32m   1710\u001b[0m \u001b[43m    \u001b[49m\u001b[43mmemory_map\u001b[49m\u001b[38;5;241;43m=\u001b[39;49m\u001b[38;5;28;43mself\u001b[39;49m\u001b[38;5;241;43m.\u001b[39;49m\u001b[43moptions\u001b[49m\u001b[38;5;241;43m.\u001b[39;49m\u001b[43mget\u001b[49m\u001b[43m(\u001b[49m\u001b[38;5;124;43m\"\u001b[39;49m\u001b[38;5;124;43mmemory_map\u001b[39;49m\u001b[38;5;124;43m\"\u001b[39;49m\u001b[43m,\u001b[49m\u001b[43m \u001b[49m\u001b[38;5;28;43;01mFalse\u001b[39;49;00m\u001b[43m)\u001b[49m\u001b[43m,\u001b[49m\n\u001b[1;32m   1711\u001b[0m \u001b[43m    \u001b[49m\u001b[43mis_text\u001b[49m\u001b[38;5;241;43m=\u001b[39;49m\u001b[43mis_text\u001b[49m\u001b[43m,\u001b[49m\n\u001b[1;32m   1712\u001b[0m \u001b[43m    \u001b[49m\u001b[43merrors\u001b[49m\u001b[38;5;241;43m=\u001b[39;49m\u001b[38;5;28;43mself\u001b[39;49m\u001b[38;5;241;43m.\u001b[39;49m\u001b[43moptions\u001b[49m\u001b[38;5;241;43m.\u001b[39;49m\u001b[43mget\u001b[49m\u001b[43m(\u001b[49m\u001b[38;5;124;43m\"\u001b[39;49m\u001b[38;5;124;43mencoding_errors\u001b[39;49m\u001b[38;5;124;43m\"\u001b[39;49m\u001b[43m,\u001b[49m\u001b[43m \u001b[49m\u001b[38;5;124;43m\"\u001b[39;49m\u001b[38;5;124;43mstrict\u001b[39;49m\u001b[38;5;124;43m\"\u001b[39;49m\u001b[43m)\u001b[49m\u001b[43m,\u001b[49m\n\u001b[1;32m   1713\u001b[0m \u001b[43m    \u001b[49m\u001b[43mstorage_options\u001b[49m\u001b[38;5;241;43m=\u001b[39;49m\u001b[38;5;28;43mself\u001b[39;49m\u001b[38;5;241;43m.\u001b[39;49m\u001b[43moptions\u001b[49m\u001b[38;5;241;43m.\u001b[39;49m\u001b[43mget\u001b[49m\u001b[43m(\u001b[49m\u001b[38;5;124;43m\"\u001b[39;49m\u001b[38;5;124;43mstorage_options\u001b[39;49m\u001b[38;5;124;43m\"\u001b[39;49m\u001b[43m,\u001b[49m\u001b[43m \u001b[49m\u001b[38;5;28;43;01mNone\u001b[39;49;00m\u001b[43m)\u001b[49m\u001b[43m,\u001b[49m\n\u001b[1;32m   1714\u001b[0m \u001b[43m\u001b[49m\u001b[43m)\u001b[49m\n\u001b[1;32m   1715\u001b[0m \u001b[38;5;28;01massert\u001b[39;00m \u001b[38;5;28mself\u001b[39m\u001b[38;5;241m.\u001b[39mhandles \u001b[38;5;129;01mis\u001b[39;00m \u001b[38;5;129;01mnot\u001b[39;00m \u001b[38;5;28;01mNone\u001b[39;00m\n\u001b[1;32m   1716\u001b[0m f \u001b[38;5;241m=\u001b[39m \u001b[38;5;28mself\u001b[39m\u001b[38;5;241m.\u001b[39mhandles\u001b[38;5;241m.\u001b[39mhandle\n",
      "File \u001b[0;32m~/.local/lib/python3.10/site-packages/pandas/io/common.py:863\u001b[0m, in \u001b[0;36mget_handle\u001b[0;34m(path_or_buf, mode, encoding, compression, memory_map, is_text, errors, storage_options)\u001b[0m\n\u001b[1;32m    858\u001b[0m \u001b[38;5;28;01melif\u001b[39;00m \u001b[38;5;28misinstance\u001b[39m(handle, \u001b[38;5;28mstr\u001b[39m):\n\u001b[1;32m    859\u001b[0m     \u001b[38;5;66;03m# Check whether the filename is to be opened in binary mode.\u001b[39;00m\n\u001b[1;32m    860\u001b[0m     \u001b[38;5;66;03m# Binary mode does not support 'encoding' and 'newline'.\u001b[39;00m\n\u001b[1;32m    861\u001b[0m     \u001b[38;5;28;01mif\u001b[39;00m ioargs\u001b[38;5;241m.\u001b[39mencoding \u001b[38;5;129;01mand\u001b[39;00m \u001b[38;5;124m\"\u001b[39m\u001b[38;5;124mb\u001b[39m\u001b[38;5;124m\"\u001b[39m \u001b[38;5;129;01mnot\u001b[39;00m \u001b[38;5;129;01min\u001b[39;00m ioargs\u001b[38;5;241m.\u001b[39mmode:\n\u001b[1;32m    862\u001b[0m         \u001b[38;5;66;03m# Encoding\u001b[39;00m\n\u001b[0;32m--> 863\u001b[0m         handle \u001b[38;5;241m=\u001b[39m \u001b[38;5;28;43mopen\u001b[39;49m\u001b[43m(\u001b[49m\n\u001b[1;32m    864\u001b[0m \u001b[43m            \u001b[49m\u001b[43mhandle\u001b[49m\u001b[43m,\u001b[49m\n\u001b[1;32m    865\u001b[0m \u001b[43m            \u001b[49m\u001b[43mioargs\u001b[49m\u001b[38;5;241;43m.\u001b[39;49m\u001b[43mmode\u001b[49m\u001b[43m,\u001b[49m\n\u001b[1;32m    866\u001b[0m \u001b[43m            \u001b[49m\u001b[43mencoding\u001b[49m\u001b[38;5;241;43m=\u001b[39;49m\u001b[43mioargs\u001b[49m\u001b[38;5;241;43m.\u001b[39;49m\u001b[43mencoding\u001b[49m\u001b[43m,\u001b[49m\n\u001b[1;32m    867\u001b[0m \u001b[43m            \u001b[49m\u001b[43merrors\u001b[49m\u001b[38;5;241;43m=\u001b[39;49m\u001b[43merrors\u001b[49m\u001b[43m,\u001b[49m\n\u001b[1;32m    868\u001b[0m \u001b[43m            \u001b[49m\u001b[43mnewline\u001b[49m\u001b[38;5;241;43m=\u001b[39;49m\u001b[38;5;124;43m\"\u001b[39;49m\u001b[38;5;124;43m\"\u001b[39;49m\u001b[43m,\u001b[49m\n\u001b[1;32m    869\u001b[0m \u001b[43m        \u001b[49m\u001b[43m)\u001b[49m\n\u001b[1;32m    870\u001b[0m     \u001b[38;5;28;01melse\u001b[39;00m:\n\u001b[1;32m    871\u001b[0m         \u001b[38;5;66;03m# Binary mode\u001b[39;00m\n\u001b[1;32m    872\u001b[0m         handle \u001b[38;5;241m=\u001b[39m \u001b[38;5;28mopen\u001b[39m(handle, ioargs\u001b[38;5;241m.\u001b[39mmode)\n",
      "\u001b[0;31mFileNotFoundError\u001b[0m: [Errno 2] No such file or directory: 'EURUSD30.csv'"
     ]
    }
   ],
   "source": [
    "    df = pd.read_csv('EURUSD30.csv', # wcięcie\n",
    "    header=None,\n",
    "    names=['DateTime', 'Open', 'High', 'Low', 'Close', 'Volume'], \n",
    "    dtype = {'Open': float, 'High': float, 'Low': float, 'Close': float, 'Volume': int},\n",
    "    sep = '\\t', parse_dates=['DateTime'] )"
   ]
  },
  {
   "cell_type": "code",
   "execution_count": 55,
   "id": "85e8d606",
   "metadata": {},
   "outputs": [
    {
     "name": "stdout",
     "output_type": "stream",
     "text": [
      "             DateTime     Open     High      Low    Close  Volume\n",
      "0 2017-12-13 10:30:00  1.17483  1.17511  1.17461  1.17510    4318\n",
      "1 2017-12-13 11:00:00  1.17512  1.17514  1.17441  1.17443    4270\n",
      "2 2017-12-13 11:30:00  1.17442  1.17444  1.17381  1.17393    4540\n",
      "3 2017-12-13 12:00:00  1.17392  1.17427  1.17334  1.17351    5130\n",
      "4 2017-12-13 12:30:00  1.17351  1.17401  1.17300  1.17401    5204\n"
     ]
    }
   ],
   "source": [
    "print(df.head())"
   ]
  },
  {
   "cell_type": "markdown",
   "id": "d4b73662",
   "metadata": {},
   "source": [
    "### 2. Odfiltruj wiersze z brakującymi danymi"
   ]
  },
  {
   "cell_type": "code",
   "execution_count": 56,
   "id": "034d9d92",
   "metadata": {},
   "outputs": [
    {
     "data": {
      "text/html": [
       "<div>\n",
       "<style scoped>\n",
       "    .dataframe tbody tr th:only-of-type {\n",
       "        vertical-align: middle;\n",
       "    }\n",
       "\n",
       "    .dataframe tbody tr th {\n",
       "        vertical-align: top;\n",
       "    }\n",
       "\n",
       "    .dataframe thead th {\n",
       "        text-align: right;\n",
       "    }\n",
       "</style>\n",
       "<table border=\"1\" class=\"dataframe\">\n",
       "  <thead>\n",
       "    <tr style=\"text-align: right;\">\n",
       "      <th></th>\n",
       "      <th>DateTime</th>\n",
       "      <th>Open</th>\n",
       "      <th>High</th>\n",
       "      <th>Low</th>\n",
       "      <th>Close</th>\n",
       "      <th>Volume</th>\n",
       "    </tr>\n",
       "  </thead>\n",
       "  <tbody>\n",
       "    <tr>\n",
       "      <th>0</th>\n",
       "      <td>2017-12-13 10:30:00</td>\n",
       "      <td>1.17483</td>\n",
       "      <td>1.17511</td>\n",
       "      <td>1.17461</td>\n",
       "      <td>1.17510</td>\n",
       "      <td>4318</td>\n",
       "    </tr>\n",
       "    <tr>\n",
       "      <th>1</th>\n",
       "      <td>2017-12-13 11:00:00</td>\n",
       "      <td>1.17512</td>\n",
       "      <td>1.17514</td>\n",
       "      <td>1.17441</td>\n",
       "      <td>1.17443</td>\n",
       "      <td>4270</td>\n",
       "    </tr>\n",
       "    <tr>\n",
       "      <th>2</th>\n",
       "      <td>2017-12-13 11:30:00</td>\n",
       "      <td>1.17442</td>\n",
       "      <td>1.17444</td>\n",
       "      <td>1.17381</td>\n",
       "      <td>1.17393</td>\n",
       "      <td>4540</td>\n",
       "    </tr>\n",
       "    <tr>\n",
       "      <th>3</th>\n",
       "      <td>2017-12-13 12:00:00</td>\n",
       "      <td>1.17392</td>\n",
       "      <td>1.17427</td>\n",
       "      <td>1.17334</td>\n",
       "      <td>1.17351</td>\n",
       "      <td>5130</td>\n",
       "    </tr>\n",
       "    <tr>\n",
       "      <th>4</th>\n",
       "      <td>2017-12-13 12:30:00</td>\n",
       "      <td>1.17351</td>\n",
       "      <td>1.17401</td>\n",
       "      <td>1.17300</td>\n",
       "      <td>1.17401</td>\n",
       "      <td>5204</td>\n",
       "    </tr>\n",
       "    <tr>\n",
       "      <th>...</th>\n",
       "      <td>...</td>\n",
       "      <td>...</td>\n",
       "      <td>...</td>\n",
       "      <td>...</td>\n",
       "      <td>...</td>\n",
       "      <td>...</td>\n",
       "    </tr>\n",
       "    <tr>\n",
       "      <th>49995</th>\n",
       "      <td>2021-12-20 11:30:00</td>\n",
       "      <td>1.12723</td>\n",
       "      <td>1.12767</td>\n",
       "      <td>1.12681</td>\n",
       "      <td>1.12703</td>\n",
       "      <td>1144</td>\n",
       "    </tr>\n",
       "    <tr>\n",
       "      <th>49996</th>\n",
       "      <td>2021-12-20 12:00:00</td>\n",
       "      <td>1.12704</td>\n",
       "      <td>1.12765</td>\n",
       "      <td>1.12683</td>\n",
       "      <td>1.12713</td>\n",
       "      <td>1345</td>\n",
       "    </tr>\n",
       "    <tr>\n",
       "      <th>49997</th>\n",
       "      <td>2021-12-20 12:30:00</td>\n",
       "      <td>1.12714</td>\n",
       "      <td>1.12746</td>\n",
       "      <td>1.12680</td>\n",
       "      <td>1.12685</td>\n",
       "      <td>1589</td>\n",
       "    </tr>\n",
       "    <tr>\n",
       "      <th>49998</th>\n",
       "      <td>2021-12-20 13:00:00</td>\n",
       "      <td>1.12684</td>\n",
       "      <td>1.12778</td>\n",
       "      <td>1.12684</td>\n",
       "      <td>1.12768</td>\n",
       "      <td>2231</td>\n",
       "    </tr>\n",
       "    <tr>\n",
       "      <th>49999</th>\n",
       "      <td>2021-12-20 13:30:00</td>\n",
       "      <td>1.12766</td>\n",
       "      <td>1.12981</td>\n",
       "      <td>1.12766</td>\n",
       "      <td>1.12931</td>\n",
       "      <td>2687</td>\n",
       "    </tr>\n",
       "  </tbody>\n",
       "</table>\n",
       "<p>50000 rows × 6 columns</p>\n",
       "</div>"
      ],
      "text/plain": [
       "                 DateTime     Open     High      Low    Close  Volume\n",
       "0     2017-12-13 10:30:00  1.17483  1.17511  1.17461  1.17510    4318\n",
       "1     2017-12-13 11:00:00  1.17512  1.17514  1.17441  1.17443    4270\n",
       "2     2017-12-13 11:30:00  1.17442  1.17444  1.17381  1.17393    4540\n",
       "3     2017-12-13 12:00:00  1.17392  1.17427  1.17334  1.17351    5130\n",
       "4     2017-12-13 12:30:00  1.17351  1.17401  1.17300  1.17401    5204\n",
       "...                   ...      ...      ...      ...      ...     ...\n",
       "49995 2021-12-20 11:30:00  1.12723  1.12767  1.12681  1.12703    1144\n",
       "49996 2021-12-20 12:00:00  1.12704  1.12765  1.12683  1.12713    1345\n",
       "49997 2021-12-20 12:30:00  1.12714  1.12746  1.12680  1.12685    1589\n",
       "49998 2021-12-20 13:00:00  1.12684  1.12778  1.12684  1.12768    2231\n",
       "49999 2021-12-20 13:30:00  1.12766  1.12981  1.12766  1.12931    2687\n",
       "\n",
       "[50000 rows x 6 columns]"
      ]
     },
     "execution_count": 56,
     "metadata": {},
     "output_type": "execute_result"
    }
   ],
   "source": [
    "df.dropna()  # bez efektu"
   ]
  },
  {
   "cell_type": "markdown",
   "id": "4e8ffa43",
   "metadata": {},
   "source": [
    "### 3. Utwórz DataFrame zawierające te same dane, ale w ujęciu dziennym."
   ]
  },
  {
   "cell_type": "code",
   "execution_count": 57,
   "id": "11d741e2",
   "metadata": {},
   "outputs": [
    {
     "data": {
      "text/html": [
       "<div>\n",
       "<style scoped>\n",
       "    .dataframe tbody tr th:only-of-type {\n",
       "        vertical-align: middle;\n",
       "    }\n",
       "\n",
       "    .dataframe tbody tr th {\n",
       "        vertical-align: top;\n",
       "    }\n",
       "\n",
       "    .dataframe thead th {\n",
       "        text-align: right;\n",
       "    }\n",
       "</style>\n",
       "<table border=\"1\" class=\"dataframe\">\n",
       "  <thead>\n",
       "    <tr style=\"text-align: right;\">\n",
       "      <th></th>\n",
       "      <th>DateTime</th>\n",
       "      <th>Open</th>\n",
       "      <th>High</th>\n",
       "      <th>Low</th>\n",
       "      <th>Close</th>\n",
       "      <th>Volume</th>\n",
       "    </tr>\n",
       "  </thead>\n",
       "  <tbody>\n",
       "    <tr>\n",
       "      <th>0</th>\n",
       "      <td>2017-12-13</td>\n",
       "      <td>1.17483</td>\n",
       "      <td>1.18404</td>\n",
       "      <td>1.17294</td>\n",
       "      <td>1.18361</td>\n",
       "      <td>159374</td>\n",
       "    </tr>\n",
       "    <tr>\n",
       "      <th>1</th>\n",
       "      <td>2017-12-14</td>\n",
       "      <td>1.18361</td>\n",
       "      <td>1.18625</td>\n",
       "      <td>1.17645</td>\n",
       "      <td>1.17745</td>\n",
       "      <td>241280</td>\n",
       "    </tr>\n",
       "    <tr>\n",
       "      <th>2</th>\n",
       "      <td>2017-12-15</td>\n",
       "      <td>1.17745</td>\n",
       "      <td>1.18123</td>\n",
       "      <td>1.17488</td>\n",
       "      <td>1.17492</td>\n",
       "      <td>200462</td>\n",
       "    </tr>\n",
       "    <tr>\n",
       "      <th>3</th>\n",
       "      <td>2017-12-17</td>\n",
       "      <td>1.17441</td>\n",
       "      <td>1.17509</td>\n",
       "      <td>1.17377</td>\n",
       "      <td>1.17432</td>\n",
       "      <td>8500</td>\n",
       "    </tr>\n",
       "    <tr>\n",
       "      <th>4</th>\n",
       "      <td>2017-12-18</td>\n",
       "      <td>1.17432</td>\n",
       "      <td>1.18342</td>\n",
       "      <td>1.17420</td>\n",
       "      <td>1.17837</td>\n",
       "      <td>199846</td>\n",
       "    </tr>\n",
       "    <tr>\n",
       "      <th>...</th>\n",
       "      <td>...</td>\n",
       "      <td>...</td>\n",
       "      <td>...</td>\n",
       "      <td>...</td>\n",
       "      <td>...</td>\n",
       "      <td>...</td>\n",
       "    </tr>\n",
       "    <tr>\n",
       "      <th>1252</th>\n",
       "      <td>2021-12-15</td>\n",
       "      <td>1.12575</td>\n",
       "      <td>1.12991</td>\n",
       "      <td>1.12215</td>\n",
       "      <td>1.12902</td>\n",
       "      <td>114369</td>\n",
       "    </tr>\n",
       "    <tr>\n",
       "      <th>1253</th>\n",
       "      <td>2021-12-16</td>\n",
       "      <td>1.12903</td>\n",
       "      <td>1.13603</td>\n",
       "      <td>1.12811</td>\n",
       "      <td>1.13336</td>\n",
       "      <td>81934</td>\n",
       "    </tr>\n",
       "    <tr>\n",
       "      <th>1254</th>\n",
       "      <td>2021-12-17</td>\n",
       "      <td>1.13335</td>\n",
       "      <td>1.13488</td>\n",
       "      <td>1.12350</td>\n",
       "      <td>1.12370</td>\n",
       "      <td>71994</td>\n",
       "    </tr>\n",
       "    <tr>\n",
       "      <th>1255</th>\n",
       "      <td>2021-12-19</td>\n",
       "      <td>1.12371</td>\n",
       "      <td>1.12439</td>\n",
       "      <td>1.12344</td>\n",
       "      <td>1.12428</td>\n",
       "      <td>1888</td>\n",
       "    </tr>\n",
       "    <tr>\n",
       "      <th>1256</th>\n",
       "      <td>2021-12-20</td>\n",
       "      <td>1.12426</td>\n",
       "      <td>1.12981</td>\n",
       "      <td>1.12363</td>\n",
       "      <td>1.12931</td>\n",
       "      <td>44619</td>\n",
       "    </tr>\n",
       "  </tbody>\n",
       "</table>\n",
       "<p>1257 rows × 6 columns</p>\n",
       "</div>"
      ],
      "text/plain": [
       "        DateTime     Open     High      Low    Close  Volume\n",
       "0     2017-12-13  1.17483  1.18404  1.17294  1.18361  159374\n",
       "1     2017-12-14  1.18361  1.18625  1.17645  1.17745  241280\n",
       "2     2017-12-15  1.17745  1.18123  1.17488  1.17492  200462\n",
       "3     2017-12-17  1.17441  1.17509  1.17377  1.17432    8500\n",
       "4     2017-12-18  1.17432  1.18342  1.17420  1.17837  199846\n",
       "...          ...      ...      ...      ...      ...     ...\n",
       "1252  2021-12-15  1.12575  1.12991  1.12215  1.12902  114369\n",
       "1253  2021-12-16  1.12903  1.13603  1.12811  1.13336   81934\n",
       "1254  2021-12-17  1.13335  1.13488  1.12350  1.12370   71994\n",
       "1255  2021-12-19  1.12371  1.12439  1.12344  1.12428    1888\n",
       "1256  2021-12-20  1.12426  1.12981  1.12363  1.12931   44619\n",
       "\n",
       "[1257 rows x 6 columns]"
      ]
     },
     "execution_count": 57,
     "metadata": {},
     "output_type": "execute_result"
    }
   ],
   "source": [
    "daily_df = df.groupby(df['DateTime'].dt.date).agg({\n",
    "            'Open': 'first',\n",
    "            'High': 'max',\n",
    "            'Low': 'min',\n",
    "            'Close': 'last',\n",
    "            'Volume': 'sum'\n",
    "            }).reset_index()\n",
    "\n",
    "\n",
    "daily_df"
   ]
  },
  {
   "cell_type": "markdown",
   "id": "410965d9",
   "metadata": {},
   "source": [
    "### 4. Utwórz serię danych zawierającą procentowy wzrost (lub spadek) kursu w danym dniu (jako różnicę Open i Close)."
   ]
  },
  {
   "cell_type": "code",
   "execution_count": 58,
   "id": "ee86b740",
   "metadata": {},
   "outputs": [
    {
     "name": "stdout",
     "output_type": "stream",
     "text": [
      "        DateTime  DailyExchangeRateChangePercent\n",
      "0     2017-12-13                        0.747342\n",
      "1     2017-12-14                       -0.520442\n",
      "2     2017-12-15                       -0.214871\n",
      "3     2017-12-17                       -0.007663\n",
      "4     2017-12-18                        0.344880\n",
      "...          ...                             ...\n",
      "1252  2021-12-15                        0.290473\n",
      "1253  2021-12-16                        0.383515\n",
      "1254  2021-12-17                       -0.851458\n",
      "1255  2021-12-19                        0.050725\n",
      "1256  2021-12-20                        0.449184\n",
      "\n",
      "[1257 rows x 2 columns]\n"
     ]
    }
   ],
   "source": [
    "daily_df['DailyExchangeRateChangePercent'] = ((daily_df['Close'] - daily_df['Open']) / daily_df['Open']) * 100\n",
    "\n",
    "print(daily_df[['DateTime', 'DailyExchangeRateChangePercent']])"
   ]
  },
  {
   "cell_type": "markdown",
   "id": "751624c5",
   "metadata": {},
   "source": [
    "### 5. Oblicz średnią i odchylenie standardowe tej kolumny oraz narysuj histogram."
   ]
  },
  {
   "cell_type": "code",
   "execution_count": 59,
   "id": "2a33e64b",
   "metadata": {},
   "outputs": [],
   "source": [
    "mean_one = daily_df['DailyExchangeRateChangePercent'].mean()\n",
    "std_one = daily_df['DailyExchangeRateChangePercent'].std()"
   ]
  },
  {
   "cell_type": "code",
   "execution_count": 60,
   "id": "fa0c0f8e",
   "metadata": {},
   "outputs": [
    {
     "name": "stdout",
     "output_type": "stream",
     "text": [
      "Średnia zmiana procentowa wynosi: -0.00228%\n",
      "Odchylenie standardowe zmiany w procentach wynosi: 0.36776\n"
     ]
    }
   ],
   "source": [
    "print(f'Średnia zmiana procentowa wynosi: {mean_one:.5f}%')\n",
    "print(f'Odchylenie standardowe zmiany w procentach wynosi: {std_one:.5f}')"
   ]
  },
  {
   "cell_type": "code",
   "execution_count": 61,
   "id": "b7aeb3f9",
   "metadata": {},
   "outputs": [],
   "source": [
    "n = daily_df['DailyExchangeRateChangePercent'].size\n",
    "max_dercp = daily_df['DailyExchangeRateChangePercent'].max()\n",
    "min_dercp = daily_df['DailyExchangeRateChangePercent'].min()\n",
    "width = 1.0 + np.log2(n)\n",
    "\n",
    "number_of_bins = math.ceil((max_dercp*100 - min_dercp*100) / width)"
   ]
  },
  {
   "cell_type": "code",
   "execution_count": 62,
   "id": "06813095",
   "metadata": {},
   "outputs": [
    {
     "data": {
      "image/png": "[encoded data removed]",
      "text/plain": [
       "<Figure size 576x432 with 1 Axes>"
      ]
     },
     "metadata": {
      "needs_background": "light"
     },
     "output_type": "display_data"
    }
   ],
   "source": [
    "plt.figure(figsize=(8, 6))\n",
    "plt.hist(daily_df['DailyExchangeRateChangePercent'], bins=number_of_bins, edgecolor='sienna', color = 'salmon')\n",
    "plt.title('Procentowa zmiana kursu na dzień')\n",
    "plt.xlabel('Zmiana')\n",
    "plt.ylabel('Liczba Dni')\n",
    "plt.grid(True)\n",
    "plt.show()"
   ]
  },
  {
   "cell_type": "markdown",
   "id": "8f5819d0",
   "metadata": {},
   "source": [
    "### 6. Powtórz punkty 4 i 5 dla wzrostów w ciągu trzech dni. Uwaga: jeśli jeden odczyt zawiera różnicę między otwarciem w poniedziałek, a zamknięciem w środę, to nastepny odczyt ma być różnicą między otwarciem we wtorek, a zamknięciem w czwartek."
   ]
  },
  {
   "cell_type": "code",
   "execution_count": 63,
   "id": "73cd43df",
   "metadata": {},
   "outputs": [
    {
     "name": "stdout",
     "output_type": "stream",
     "text": [
      "Średnia wynosi: -0.00864%\n",
      "Odchylenie standardowe wynosi: 0.65402%\n"
     ]
    },
    {
     "data": {
      "image/png": "[encoded data removed]",
      "text/plain": [
       "<Figure size 576x432 with 1 Axes>"
      ]
     },
     "metadata": {
      "needs_background": "light"
     },
     "output_type": "display_data"
    }
   ],
   "source": [
    "daily_df['ThreeDaysChange'] = ((daily_df['Close'].shift(-2) - daily_df['Open']) / daily_df['Open']) * 100\n",
    "\n",
    "mean_three = daily_df['ThreeDaysChange'].mean()\n",
    "std_three = daily_df['ThreeDaysChange'].std()\n",
    "\n",
    "print(f'Średnia wynosi: {mean_three:.5f}%')\n",
    "print(f'Odchylenie standardowe wynosi: {std_three:.5f}%')\n",
    "\n",
    "n = daily_df['ThreeDaysChange'].size\n",
    "width = 1.0 + np.log2(n)\n",
    "\n",
    "max_three = daily_df['ThreeDaysChange'].max()\n",
    "min_three = daily_df['ThreeDaysChange'].min()\n",
    "number_of_bins = math.ceil((max_three*100 - min_three*100) / width)\n",
    "\n",
    "plt.figure(figsize=(8, 6))\n",
    "plt.hist(daily_df['ThreeDaysChange'], bins=number_of_bins , edgecolor='darkorchid', color='plum')\n",
    "plt.title('Procentowa Zmiana Kursu w Ciągu Trzech Dni')\n",
    "plt.xlabel('Procentowa Zmiana Kursu')\n",
    "plt.ylabel('Liczba Dni')\n",
    "plt.grid(True)\n",
    "plt.show()"
   ]
  },
  {
   "cell_type": "code",
   "execution_count": null,
   "id": "80d74f23",
   "metadata": {},
   "outputs": [],
   "source": []
  }
 ],
 "metadata": {
  "kernelspec": {
   "display_name": "Python 3 (ipykernel)",
   "language": "python",
   "name": "python3"
  },
  "language_info": {
   "codemirror_mode": {
    "name": "ipython",
    "version": 3
   },
   "file_extension": ".py",
   "mimetype": "text/x-python",
   "name": "python",
   "nbconvert_exporter": "python",
   "pygments_lexer": "ipython3",
   "version": "3.10.12"
  }
 },
 "nbformat": 4,
 "nbformat_minor": 5
}
